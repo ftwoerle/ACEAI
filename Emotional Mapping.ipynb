{
 "cells": [
  {
   "cell_type": "code",
   "execution_count": 1,
   "id": "9ca15391",
   "metadata": {},
   "outputs": [],
   "source": [
    "import json"
   ]
  },
  {
   "cell_type": "code",
   "execution_count": 34,
   "id": "4f715f2b",
   "metadata": {},
   "outputs": [
    {
     "name": "stdout",
     "output_type": "stream",
     "text": [
      "[[{'name': 'Admiration', 'score': 0.10387744009494781}], [{'name': 'Adoration', 'score': 0.11264695972204208}], [{'name': 'Aesthetic Appreciation', 'score': 0.042619798332452774}], [{'name': 'Amusement', 'score': 0.9539101719856262}], [{'name': 'Anger', 'score': 0.04485597833991051}], [{'name': 'Anxiety', 'score': 0.03656063601374626}], [{'name': 'Awe', 'score': 0.11263100057840347}], [{'name': 'Awkwardness', 'score': 0.09123009443283081}], [{'name': 'Boredom', 'score': 0.03531913459300995}], [{'name': 'Calmness', 'score': 0.06536221504211426}], [{'name': 'Concentration', 'score': 0.037920452654361725}], [{'name': 'Confusion', 'score': 0.03523591160774231}], [{'name': 'Contemplation', 'score': 0.017263157293200493}], [{'name': 'Contempt', 'score': 0.03533755987882614}], [{'name': 'Contentment', 'score': 0.14998288452625275}], [{'name': 'Craving', 'score': 0.03178517147898674}], [{'name': 'Desire', 'score': 0.042717095464468}], [{'name': 'Determination', 'score': 0.045513249933719635}], [{'name': 'Disappointment', 'score': 0.03583439439535141}], [{'name': 'Disgust', 'score': 0.021275106817483902}], [{'name': 'Distress', 'score': 0.05191154405474663}], [{'name': 'Doubt', 'score': 0.02306646667420864}], [{'name': 'Ecstasy', 'score': 0.5064252614974976}], [{'name': 'Embarrassment', 'score': 0.04418589174747467}], [{'name': 'Empathic Pain', 'score': 0.0228869765996933}], [{'name': 'Entrancement', 'score': 0.055293016135692596}], [{'name': 'Envy', 'score': 0.01446438580751419}], [{'name': 'Excitement', 'score': 0.9602466225624084}], [{'name': 'Fear', 'score': 0.04548855498433113}], [{'name': 'Guilt', 'score': 0.01258624717593193}], [{'name': 'Horror', 'score': 0.04887824133038521}], [{'name': 'Interest', 'score': 0.19405913352966309}], [{'name': 'Joy', 'score': 0.87801593542099}], [{'name': 'Love', 'score': 0.24988994002342224}], [{'name': 'Nostalgia', 'score': 0.03979039192199707}], [{'name': 'Pain', 'score': 0.0562865249812603}], [{'name': 'Pride', 'score': 0.1583722084760666}], [{'name': 'Realization', 'score': 0.07417169213294983}], [{'name': 'Relief', 'score': 0.09771883487701416}], [{'name': 'Romance', 'score': 0.03726676106452942}], [{'name': 'Sadness', 'score': 0.01952439360320568}], [{'name': 'Satisfaction', 'score': 0.36698779463768005}], [{'name': 'Shame', 'score': 0.014966492541134357}], [{'name': 'Surprise (negative)', 'score': 0.03479816019535065}], [{'name': 'Surprise (positive)', 'score': 0.08888864517211914}], [{'name': 'Sympathy', 'score': 0.027081646025180817}], [{'name': 'Tiredness', 'score': 0.04311645030975342}], [{'name': 'Triumph', 'score': 0.3272620141506195}]]\n"
     ]
    }
   ],
   "source": [
    "# Json prediction file von Hume API öffnen\n",
    "f = open('predictions.json')\n",
    "  \n",
    "# Json object als dictionary öffnen\n",
    "emotions_dict = json.load(f)\n",
    "\n",
    "# durch das Jason File iterieren und Gefühle für Bild 1 speichern\n",
    "pic_1 =[]\n",
    "for i in emotions_dict[0]['results']['predictions'][0]['models']['face']['grouped_predictions'][0]['predictions'][0]['emotions']:\n",
    "    #print(i)\n",
    "    pic_1.append([i])\n",
    "  \n",
    "# file schließen\n",
    "f.close()\n",
    "\n",
    "# pic_1 enthält jetzt liste der Gefühle mit entsprechendem Score\n",
    "print(pic_1)\n"
   ]
  },
  {
   "cell_type": "code",
   "execution_count": 43,
   "id": "1ba8135d",
   "metadata": {},
   "outputs": [
    {
     "name": "stdout",
     "output_type": "stream",
     "text": [
      "Die positiven Emotionen haben zusammen einen Score von: 5.41530367359519\n",
      "Die negativen Emotionen haben zusammen einen Score von: 0.776475072838366\n",
      "Die neutralen Emotionen haben zusammen einen Score von: 0.3537298943847418\n"
     ]
    }
   ],
   "source": [
    "# Scores und dictionaries der Emotions, sortiert nach Positive, Negative, Neutral\n",
    "# Achtung: einzelne Emotionen sind scheinbar nicht mutually exclusive und die Summe aller Probabilities >1!\n",
    "\n",
    "emotions_positive=['Admiration','Adoration','Aesthetic Appreciation','Amusement','Awe', 'Contentment', 'Craving', 'Desire',\n",
    "                   'Ecstasy', 'Excitement','Interest','Joy','Love', 'Pride','Relief','Romance','Satisfaction','Surprise (positive)','Triumph']\n",
    "emotions_negative=['Anger','Anxiety','Awkwardness','Confusion','Contempt','Disappointment','Disgust','Distress','Doubt' ,'Embarrassment','Envy','Fear','Guilt','Horror',\n",
    "                   'Nostalgia','Pain','Sadness','Shame','Surprise (negative)','Sympathy','Tiredness']\n",
    "emotions_neutral=['Boredom','Calmness','Concentration','Contemplation','Determination','Empathic Pain','Entrancement','Realization']\n",
    "\n",
    "score_positive=0\n",
    "score_negative=0\n",
    "score_neutral=0\n",
    "\n",
    "for e in emotions_positive:\n",
    "    for i in pic_1:\n",
    "        if i[0]['name']==e:\n",
    "            score_positive = score_positive+i[0]['score']\n",
    "for e in emotions_negative:\n",
    "    for i in pic_1:\n",
    "        if i[0]['name']==e:\n",
    "            score_negative = score_negative+i[0]['score']\n",
    "for e in emotions_neutral:\n",
    "    for i in pic_1:\n",
    "        if i[0]['name']==e:\n",
    "            score_neutral = score_neutral+i[0]['score']\n",
    "            \n",
    "print(\"Die positiven Emotionen haben zusammen einen Score von:\", score_positive)\n",
    "print(\"Die negativen Emotionen haben zusammen einen Score von:\",score_negative)\n",
    "print(\"Die neutralen Emotionen haben zusammen einen Score von:\",score_neutral)\n"
   ]
  },
  {
   "cell_type": "code",
   "execution_count": 44,
   "id": "0e5fa917",
   "metadata": {},
   "outputs": [
    {
     "ename": "ImportError",
     "evalue": "cannot import name 'structures' from partially initialized module 'music' (most likely due to a circular import) (C:\\Users\\2brok\\AppData\\Local\\Programs\\Python\\Python310\\lib\\site-packages\\music\\__init__.py)",
     "output_type": "error",
     "traceback": [
      "\u001b[1;31m---------------------------------------------------------------------------\u001b[0m",
      "\u001b[1;31mImportError\u001b[0m                               Traceback (most recent call last)",
      "\u001b[1;32m~\\AppData\\Local\\Temp/ipykernel_46140/246873773.py\u001b[0m in \u001b[0;36m<module>\u001b[1;34m\u001b[0m\n\u001b[0;32m      1\u001b[0m \u001b[1;31m# Musikalisches Mapping\u001b[0m\u001b[1;33m\u001b[0m\u001b[1;33m\u001b[0m\u001b[0m\n\u001b[1;32m----> 2\u001b[1;33m \u001b[1;32mfrom\u001b[0m \u001b[0mmusic\u001b[0m \u001b[1;32mimport\u001b[0m \u001b[1;33m*\u001b[0m\u001b[1;33m\u001b[0m\u001b[1;33m\u001b[0m\u001b[0m\n\u001b[0m\u001b[0;32m      3\u001b[0m \u001b[1;33m\u001b[0m\u001b[0m\n\u001b[0;32m      4\u001b[0m \u001b[0mpositive_melodie\u001b[0m \u001b[1;33m=\u001b[0m \u001b[1;33m[\u001b[0m\u001b[0mC5\u001b[0m\u001b[1;33m,\u001b[0m \u001b[0mE5\u001b[0m\u001b[1;33m,\u001b[0m \u001b[0mG5\u001b[0m\u001b[1;33m,\u001b[0m \u001b[0mE5\u001b[0m\u001b[1;33m,\u001b[0m \u001b[0mC6\u001b[0m\u001b[1;33m,\u001b[0m \u001b[0mE5\u001b[0m\u001b[1;33m,\u001b[0m \u001b[0mG5\u001b[0m\u001b[1;33m,\u001b[0m \u001b[0mE5\u001b[0m\u001b[1;33m,\u001b[0m \u001b[0mC5\u001b[0m\u001b[1;33m]\u001b[0m\u001b[1;33m\u001b[0m\u001b[1;33m\u001b[0m\u001b[0m\n\u001b[0;32m      5\u001b[0m \u001b[0mnegative_melodie\u001b[0m \u001b[1;33m=\u001b[0m \u001b[1;33m[\u001b[0m\u001b[0mC5\u001b[0m\u001b[1;33m,\u001b[0m \u001b[0mDS5\u001b[0m\u001b[1;33m,\u001b[0m \u001b[0mG5\u001b[0m\u001b[1;33m,\u001b[0m \u001b[0mDS5\u001b[0m\u001b[1;33m,\u001b[0m \u001b[0mC6\u001b[0m\u001b[1;33m,\u001b[0m \u001b[0mDS5\u001b[0m\u001b[1;33m,\u001b[0m \u001b[0mG5\u001b[0m\u001b[1;33m,\u001b[0m \u001b[0mDS5\u001b[0m\u001b[1;33m,\u001b[0m \u001b[0mC5\u001b[0m\u001b[1;33m]\u001b[0m\u001b[1;33m\u001b[0m\u001b[1;33m\u001b[0m\u001b[0m\n",
      "\u001b[1;32m~\\AppData\\Local\\Programs\\Python\\Python310\\lib\\site-packages\\music\\__init__.py\u001b[0m in \u001b[0;36m<module>\u001b[1;34m\u001b[0m\n\u001b[1;32m----> 1\u001b[1;33m \u001b[1;32mfrom\u001b[0m \u001b[1;33m.\u001b[0m \u001b[1;32mimport\u001b[0m \u001b[0mutils\u001b[0m\u001b[1;33m,\u001b[0m \u001b[0mtables\u001b[0m\u001b[1;33m,\u001b[0m \u001b[0msynths\u001b[0m\u001b[1;33m,\u001b[0m \u001b[0meffects\u001b[0m\u001b[1;33m,\u001b[0m \u001b[0mstructures\u001b[0m\u001b[1;33m,\u001b[0m \u001b[0msinging\u001b[0m\u001b[1;33m,\u001b[0m \u001b[0mcore\u001b[0m\u001b[1;33m\u001b[0m\u001b[1;33m\u001b[0m\u001b[0m\n\u001b[0m\u001b[0;32m      2\u001b[0m \u001b[1;32mfrom\u001b[0m \u001b[1;33m.\u001b[0m \u001b[1;32mimport\u001b[0m \u001b[0mlegacy\u001b[0m\u001b[1;33m\u001b[0m\u001b[1;33m\u001b[0m\u001b[0m\n",
      "\u001b[1;31mImportError\u001b[0m: cannot import name 'structures' from partially initialized module 'music' (most likely due to a circular import) (C:\\Users\\2brok\\AppData\\Local\\Programs\\Python\\Python310\\lib\\site-packages\\music\\__init__.py)"
     ]
    }
   ],
   "source": [
    "# Musikalisches Mapping\n",
    "from music import *\n",
    "\n",
    "positive_melodie = [C5, E5, G5, E5, C6, E5, G5, E5, C5]\n",
    "negative_melodie = [C5, DS5, G5, DS5, C6, DS5, G5, DS5, C5]\n",
    "duration = [SN, SN, SN, SN, SN, SN, SN, SN, SN]\n",
    "\n",
    "# create an empty phrase, and construct theme from the above motifs\n",
    "theme = Phrase()\n",
    "theme.addNoteList(positive_melodie, duration)\n",
    "\n",
    "#abspielen\n",
    "Play.midi(theme)"
   ]
  },
  {
   "cell_type": "code",
   "execution_count": null,
   "id": "4382dbe2",
   "metadata": {},
   "outputs": [],
   "source": []
  }
 ],
 "metadata": {
  "kernelspec": {
   "display_name": "Python 3 (ipykernel)",
   "language": "python",
   "name": "python3"
  },
  "language_info": {
   "codemirror_mode": {
    "name": "ipython",
    "version": 3
   },
   "file_extension": ".py",
   "mimetype": "text/x-python",
   "name": "python",
   "nbconvert_exporter": "python",
   "pygments_lexer": "ipython3",
   "version": "3.10.4"
  }
 },
 "nbformat": 4,
 "nbformat_minor": 5
}
