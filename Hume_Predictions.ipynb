{
 "cells": [
  {
   "cell_type": "code",
   "execution_count": 1,
   "id": "b0176b62",
   "metadata": {},
   "outputs": [
    {
     "name": "stdout",
     "output_type": "stream",
     "text": [
      "Job(id=\"ca3cccaf-e365-4440-94fd-2ad2e9493024\")\n",
      "Running...\n",
      "Predictions downloaded to predictions.json\n"
     ]
    }
   ],
   "source": [
    "from hume import HumeBatchClient\n",
    "from hume.models.config import FaceConfig\n",
    "\n",
    "client = HumeBatchClient(\"epECMAXFJKQC9ryvsibUQ3DPbko59An89YjInFiQ9U7nS7Go\")\n",
    "urls = [\"https://hume-tutorials.s3.amazonaws.com/faces.zip\"]\n",
    "config = FaceConfig()\n",
    "job = client.submit_job(urls, [config])\n",
    "\n",
    "print(job)\n",
    "print(\"Running...\")\n",
    "\n",
    "details = job.await_complete()\n",
    "job.download_predictions(\"predictions.json\")\n",
    "print(\"Predictions downloaded to predictions.json\")"
   ]
  },
  {
   "cell_type": "code",
   "execution_count": null,
   "id": "05169c8a",
   "metadata": {},
   "outputs": [],
   "source": []
  }
 ],
 "metadata": {
  "kernelspec": {
   "display_name": "Python 3 (ipykernel)",
   "language": "python",
   "name": "python3"
  },
  "language_info": {
   "codemirror_mode": {
    "name": "ipython",
    "version": 3
   },
   "file_extension": ".py",
   "mimetype": "text/x-python",
   "name": "python",
   "nbconvert_exporter": "python",
   "pygments_lexer": "ipython3",
   "version": "3.10.4"
  }
 },
 "nbformat": 4,
 "nbformat_minor": 5
}
